{
  "cells": [
    {
      "cell_type": "code",
      "source": [
        "import pandas as pd\n",
        "import glob\n",
        "\n",
        "# Lista todos os arquivos CSV na pasta atual\n",
        "caminho_arquivos = glob.glob('*.csv')\n",
        "\n",
        "# Cria uma lista para armazenar os DataFrames\n",
        "lista_dfs = []\n",
        "\n",
        "# Lê cada arquivo CSV e adiciona à lista\n",
        "for arquivo in caminho_arquivos:\n",
        "    df = pd.read_csv(arquivo, delimiter=';')\n",
        "    lista_dfs.append(df)\n",
        "\n",
        "# Concatena todos os DataFrames em um único DataFrame\n",
        "df_final = pd.concat(lista_dfs, ignore_index=True)\n",
        "\n",
        "# Exibe o DataFrame final\n",
        "print(df_final)"
      ],
      "metadata": {
        "colab": {
          "base_uri": "https://localhost:8080/"
        },
        "id": "D8JK30mMbEM5",
        "outputId": "fc440f73-4ac8-426d-d266-ff41b624a072"
      },
      "execution_count": null,
      "outputs": [
        {
          "output_type": "stream",
          "name": "stdout",
          "text": [
            "                regiao estado municipio  coduf    codmun  codRegiaoSaude  \\\n",
            "0               Brasil    NaN       NaN     76       NaN             NaN   \n",
            "1               Brasil    NaN       NaN     76       NaN             NaN   \n",
            "2               Brasil    NaN       NaN     76       NaN             NaN   \n",
            "3               Brasil    NaN       NaN     76       NaN             NaN   \n",
            "4               Brasil    NaN       NaN     76       NaN             NaN   \n",
            "...                ...    ...       ...    ...       ...             ...   \n",
            "10081349  Centro-Oeste     DF  Brasília     53  530010.0         53001.0   \n",
            "10081350  Centro-Oeste     DF  Brasília     53  530010.0         53001.0   \n",
            "10081351  Centro-Oeste     DF  Brasília     53  530010.0         53001.0   \n",
            "10081352  Centro-Oeste     DF  Brasília     53  530010.0         53001.0   \n",
            "10081353  Centro-Oeste     DF  Brasília     53  530010.0         53001.0   \n",
            "\n",
            "           nomeRegiaoSaude        data  semanaEpi  populacaoTCU2019  \\\n",
            "0                      NaN  2025-01-01          1       210147125.0   \n",
            "1                      NaN  2025-01-02          1       210147125.0   \n",
            "2                      NaN  2025-01-03          1       210147125.0   \n",
            "3                      NaN  2025-01-04          1       210147125.0   \n",
            "4                      NaN  2025-01-05          2       210147125.0   \n",
            "...                    ...         ...        ...               ...   \n",
            "10081349  DISTRITO FEDERAL  2020-12-27         53         3015268.0   \n",
            "10081350  DISTRITO FEDERAL  2020-12-28         53         3015268.0   \n",
            "10081351  DISTRITO FEDERAL  2020-12-29         53         3015268.0   \n",
            "10081352  DISTRITO FEDERAL  2020-12-30         53         3015268.0   \n",
            "10081353  DISTRITO FEDERAL  2020-12-31         53         3015268.0   \n",
            "\n",
            "          casosAcumulado  casosNovos  obitosAcumulado  obitosNovos  \\\n",
            "0             39073544.0           0           714597            0   \n",
            "1             39073544.0           0           714597            0   \n",
            "2             39073544.0           0           714597            0   \n",
            "3             39090048.0       16504           714534          -63   \n",
            "4             39090048.0           0           714534            0   \n",
            "...                  ...         ...              ...          ...   \n",
            "10081349        248543.0         615             4201            3   \n",
            "10081350        249736.0        1193             4223           22   \n",
            "10081351        250457.0         721             4241           18   \n",
            "10081352        251135.0         678             4248            7   \n",
            "10081353        251701.0         566             4259           11   \n",
            "\n",
            "          Recuperadosnovos  emAcompanhamentoNovos  interior/metropolitana  \n",
            "0               38340436.0                18511.0                     NaN  \n",
            "1               38344728.0                14219.0                     NaN  \n",
            "2               38349017.0                 9930.0                     NaN  \n",
            "3               38360060.0                15454.0                     NaN  \n",
            "4               38354541.0                20973.0                     NaN  \n",
            "...                    ...                    ...                     ...  \n",
            "10081349               NaN                    NaN                     1.0  \n",
            "10081350               NaN                    NaN                     1.0  \n",
            "10081351               NaN                    NaN                     1.0  \n",
            "10081352               NaN                    NaN                     1.0  \n",
            "10081353               NaN                    NaN                     1.0  \n",
            "\n",
            "[10081354 rows x 17 columns]\n"
          ]
        }
      ]
    },
    {
      "cell_type": "code",
      "source": [
        "min = df_final['data'].min()\n",
        "max = df_final['data'].max()\n",
        "\n",
        "print(f\"shape: {df_final.shape}\")\n",
        "print(f\"Min: {min_value}\")\n",
        "print(f\"Max: {max_value}\")"
      ],
      "metadata": {
        "colab": {
          "base_uri": "https://localhost:8080/"
        },
        "id": "GGzhmZ7di817",
        "outputId": "e4afb75b-bf2d-4b03-995e-2b89435e240e"
      },
      "execution_count": null,
      "outputs": [
        {
          "output_type": "stream",
          "name": "stdout",
          "text": [
            "shape: (10081354, 17)\n",
            "Min: 2020-02-25\n",
            "Max: 2025-02-22\n"
          ]
        }
      ]
    }
  ],
  "metadata": {
    "colab": {
      "provenance": []
    },
    "kernelspec": {
      "display_name": "Python 3",
      "name": "python3"
    },
    "language_info": {
      "name": "python"
    }
  },
  "nbformat": 4,
  "nbformat_minor": 0
}