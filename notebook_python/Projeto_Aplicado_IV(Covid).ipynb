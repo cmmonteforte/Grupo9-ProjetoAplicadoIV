{
 "cells": [
  {
   "cell_type": "markdown",
   "id": "9cf66863-0188-4724-84a2-0dcd54e937c1",
   "metadata": {},
   "source": [
    "## 1. Repositório de dados:\n",
    "https://github.com/cmmonteforte/Grupo9-ProjetoAplicadoIV\n",
    "\n",
    "## 2. Base de dados:\n",
    "https://covid.saude.gov.br/\n",
    "\n",
    "## 3. Objetivo\n",
    "\n",
    "Neste projeto, buscamos desenvolver um modelo preditivo que analise dados históricos de casos e óbitos causados pela COVID-19 no território brasileiro, tentando prever a quantidade de novos casos para que assim seja possível apoiar a tomada de decisão das autoridades na gestão de saúde pública.\n",
    "\n",
    "Esperamos atingir esse objetivo através das seguintes metas:\n",
    "\n",
    "* Coletar e processar dados oficiais de casos e óbitos relacionados à COVID-19 no Brasil;\n",
    "* Aplicar e comparar técnicas de modeloagem de séries temporais;\n",
    "* Validar o desempenho dos modelos preditivos através de métricas de erros e testes estatísticos;\n",
    "* Gerar um modelo com bom desempenho, capaz de prever a quantidade de casos ou óbitos nos próximos dias, semanas ou meses."
   ]
  },
  {
   "cell_type": "markdown",
   "id": "VEvNVqhUukGk",
   "metadata": {
    "id": "VEvNVqhUukGk"
   },
   "source": [
    "## 4. Definição dos pacotes"
   ]
  },
  {
   "cell_type": "code",
   "execution_count": 1,
   "id": "2550a911",
   "metadata": {
    "id": "2550a911"
   },
   "outputs": [],
   "source": [
    "#Importando os pacotes\n",
    "import pandas as pd\n",
    "import numpy as np\n",
    "import matplotlib.pyplot as plt\n",
    "import seaborn as sns\n",
    "from prettytable import PrettyTable\n",
    "\n",
    "%matplotlib inline\n",
    "sns.set_style('darkgrid')"
   ]
  },
  {
   "cell_type": "markdown",
   "id": "8deaa931-d0f4-445a-bf3b-b9d9f96d3fd9",
   "metadata": {
    "id": "524bc4f5"
   },
   "source": [
    "## 5. Geração da tabela de Metadados\n",
    "\n"
   ]
  },
  {
   "cell_type": "code",
   "execution_count": 2,
   "id": "3305bc5d",
   "metadata": {
    "colab": {
     "base_uri": "https://localhost:8080/",
     "height": 342
    },
    "id": "3305bc5d",
    "outputId": "05f7bfaa-c857-45a1-8def-a887297e9756"
   },
   "outputs": [
    {
     "data": {
      "text/html": [
       "<div>\n",
       "<style scoped>\n",
       "    .dataframe tbody tr th:only-of-type {\n",
       "        vertical-align: middle;\n",
       "    }\n",
       "\n",
       "    .dataframe tbody tr th {\n",
       "        vertical-align: top;\n",
       "    }\n",
       "\n",
       "    .dataframe thead th {\n",
       "        text-align: right;\n",
       "    }\n",
       "</style>\n",
       "<table border=\"1\" class=\"dataframe\">\n",
       "  <thead>\n",
       "    <tr style=\"text-align: right;\">\n",
       "      <th></th>\n",
       "      <th>regiao</th>\n",
       "      <th>estado</th>\n",
       "      <th>municipio</th>\n",
       "      <th>coduf</th>\n",
       "      <th>codmun</th>\n",
       "      <th>codRegiaoSaude</th>\n",
       "      <th>nomeRegiaoSaude</th>\n",
       "      <th>data</th>\n",
       "      <th>semanaEpi</th>\n",
       "      <th>populacaoTCU2019</th>\n",
       "      <th>casosAcumulado</th>\n",
       "      <th>casosNovos</th>\n",
       "      <th>obitosAcumulado</th>\n",
       "      <th>obitosNovos</th>\n",
       "      <th>Recuperadosnovos</th>\n",
       "      <th>emAcompanhamentoNovos</th>\n",
       "      <th>interior/metropolitana</th>\n",
       "    </tr>\n",
       "  </thead>\n",
       "  <tbody>\n",
       "    <tr>\n",
       "      <th>0</th>\n",
       "      <td>Brasil</td>\n",
       "      <td>NaN</td>\n",
       "      <td>NaN</td>\n",
       "      <td>76</td>\n",
       "      <td>NaN</td>\n",
       "      <td>NaN</td>\n",
       "      <td>NaN</td>\n",
       "      <td>2021-07-01</td>\n",
       "      <td>26</td>\n",
       "      <td>210147125.0</td>\n",
       "      <td>18622304.0</td>\n",
       "      <td>65163</td>\n",
       "      <td>520095</td>\n",
       "      <td>2029</td>\n",
       "      <td>16858632.0</td>\n",
       "      <td>1180443.0</td>\n",
       "      <td>NaN</td>\n",
       "    </tr>\n",
       "    <tr>\n",
       "      <th>1</th>\n",
       "      <td>Brasil</td>\n",
       "      <td>NaN</td>\n",
       "      <td>NaN</td>\n",
       "      <td>76</td>\n",
       "      <td>NaN</td>\n",
       "      <td>NaN</td>\n",
       "      <td>NaN</td>\n",
       "      <td>2021-07-02</td>\n",
       "      <td>26</td>\n",
       "      <td>210147125.0</td>\n",
       "      <td>18687469.0</td>\n",
       "      <td>65165</td>\n",
       "      <td>521952</td>\n",
       "      <td>1857</td>\n",
       "      <td>16931272.0</td>\n",
       "      <td>1170937.0</td>\n",
       "      <td>NaN</td>\n",
       "    </tr>\n",
       "    <tr>\n",
       "      <th>2</th>\n",
       "      <td>Brasil</td>\n",
       "      <td>NaN</td>\n",
       "      <td>NaN</td>\n",
       "      <td>76</td>\n",
       "      <td>NaN</td>\n",
       "      <td>NaN</td>\n",
       "      <td>NaN</td>\n",
       "      <td>2021-07-03</td>\n",
       "      <td>26</td>\n",
       "      <td>210147125.0</td>\n",
       "      <td>18742025.0</td>\n",
       "      <td>54556</td>\n",
       "      <td>523587</td>\n",
       "      <td>1635</td>\n",
       "      <td>16989351.0</td>\n",
       "      <td>1176166.0</td>\n",
       "      <td>NaN</td>\n",
       "    </tr>\n",
       "    <tr>\n",
       "      <th>3</th>\n",
       "      <td>Brasil</td>\n",
       "      <td>NaN</td>\n",
       "      <td>NaN</td>\n",
       "      <td>76</td>\n",
       "      <td>NaN</td>\n",
       "      <td>NaN</td>\n",
       "      <td>NaN</td>\n",
       "      <td>2021-07-04</td>\n",
       "      <td>27</td>\n",
       "      <td>210147125.0</td>\n",
       "      <td>18769808.0</td>\n",
       "      <td>27783</td>\n",
       "      <td>524417</td>\n",
       "      <td>830</td>\n",
       "      <td>17033808.0</td>\n",
       "      <td>1184630.0</td>\n",
       "      <td>NaN</td>\n",
       "    </tr>\n",
       "    <tr>\n",
       "      <th>4</th>\n",
       "      <td>Brasil</td>\n",
       "      <td>NaN</td>\n",
       "      <td>NaN</td>\n",
       "      <td>76</td>\n",
       "      <td>NaN</td>\n",
       "      <td>NaN</td>\n",
       "      <td>NaN</td>\n",
       "      <td>2021-07-05</td>\n",
       "      <td>27</td>\n",
       "      <td>210147125.0</td>\n",
       "      <td>18792511.0</td>\n",
       "      <td>22703</td>\n",
       "      <td>525112</td>\n",
       "      <td>695</td>\n",
       "      <td>17082876.0</td>\n",
       "      <td>1162515.0</td>\n",
       "      <td>NaN</td>\n",
       "    </tr>\n",
       "  </tbody>\n",
       "</table>\n",
       "</div>"
      ],
      "text/plain": [
       "   regiao estado municipio  coduf  codmun  codRegiaoSaude nomeRegiaoSaude  \\\n",
       "0  Brasil    NaN       NaN     76     NaN             NaN             NaN   \n",
       "1  Brasil    NaN       NaN     76     NaN             NaN             NaN   \n",
       "2  Brasil    NaN       NaN     76     NaN             NaN             NaN   \n",
       "3  Brasil    NaN       NaN     76     NaN             NaN             NaN   \n",
       "4  Brasil    NaN       NaN     76     NaN             NaN             NaN   \n",
       "\n",
       "         data  semanaEpi  populacaoTCU2019  casosAcumulado  casosNovos  \\\n",
       "0  2021-07-01         26       210147125.0      18622304.0       65163   \n",
       "1  2021-07-02         26       210147125.0      18687469.0       65165   \n",
       "2  2021-07-03         26       210147125.0      18742025.0       54556   \n",
       "3  2021-07-04         27       210147125.0      18769808.0       27783   \n",
       "4  2021-07-05         27       210147125.0      18792511.0       22703   \n",
       "\n",
       "   obitosAcumulado  obitosNovos  Recuperadosnovos  emAcompanhamentoNovos  \\\n",
       "0           520095         2029        16858632.0              1180443.0   \n",
       "1           521952         1857        16931272.0              1170937.0   \n",
       "2           523587         1635        16989351.0              1176166.0   \n",
       "3           524417          830        17033808.0              1184630.0   \n",
       "4           525112          695        17082876.0              1162515.0   \n",
       "\n",
       "   interior/metropolitana  \n",
       "0                     NaN  \n",
       "1                     NaN  \n",
       "2                     NaN  \n",
       "3                     NaN  \n",
       "4                     NaN  "
      ]
     },
     "execution_count": 2,
     "metadata": {},
     "output_type": "execute_result"
    }
   ],
   "source": [
    "df = pd.read_csv(\"df_covid.csv\")\n",
    "df.head()"
   ]
  },
  {
   "cell_type": "code",
   "execution_count": 3,
   "id": "17b82df6",
   "metadata": {
    "colab": {
     "base_uri": "https://localhost:8080/"
    },
    "id": "17b82df6",
    "outputId": "001812b7-3d6e-4762-b028-51cf14a275e4"
   },
   "outputs": [
    {
     "name": "stdout",
     "output_type": "stream",
     "text": [
      "<class 'pandas.core.frame.DataFrame'>\n",
      "RangeIndex: 10081354 entries, 0 to 10081353\n",
      "Data columns (total 17 columns):\n",
      " #   Column                  Dtype  \n",
      "---  ------                  -----  \n",
      " 0   regiao                  object \n",
      " 1   estado                  object \n",
      " 2   municipio               object \n",
      " 3   coduf                   int64  \n",
      " 4   codmun                  float64\n",
      " 5   codRegiaoSaude          float64\n",
      " 6   nomeRegiaoSaude         object \n",
      " 7   data                    object \n",
      " 8   semanaEpi               int64  \n",
      " 9   populacaoTCU2019        float64\n",
      " 10  casosAcumulado          float64\n",
      " 11  casosNovos              int64  \n",
      " 12  obitosAcumulado         int64  \n",
      " 13  obitosNovos             int64  \n",
      " 14  Recuperadosnovos        float64\n",
      " 15  emAcompanhamentoNovos   float64\n",
      " 16  interior/metropolitana  float64\n",
      "dtypes: float64(7), int64(5), object(5)\n",
      "memory usage: 1.3+ GB\n"
     ]
    }
   ],
   "source": [
    "df.info()"
   ]
  },
  {
   "cell_type": "markdown",
   "id": "f23df186",
   "metadata": {
    "id": "f23df186"
   },
   "source": [
    "### 5.1 Tabela com os metadados"
   ]
  },
  {
   "cell_type": "code",
   "execution_count": 4,
   "id": "a34993f0",
   "metadata": {
    "colab": {
     "base_uri": "https://localhost:8080/",
     "height": 1000
    },
    "id": "a34993f0",
    "outputId": "ef06d7bc-03ec-4e4c-a75e-6a6338940497"
   },
   "outputs": [
    {
     "name": "stdout",
     "output_type": "stream",
     "text": [
      "+------------------------+---------+-----------------------+---------+----------+\n",
      "|        Variável        |   Tipo  |        Exemplo        | % Nulos |  Origem  |\n",
      "+------------------------+---------+-----------------------+---------+----------+\n",
      "|         regiao         |  object |         Brasil        |   0.0%  | df_covid |\n",
      "|         estado         |  object |           RO          |  0.02%  | df_covid |\n",
      "|       municipio        |  object | Alta Floresta D'Oeste |  0.88%  | df_covid |\n",
      "|         coduf          |  int64  |           76          |   0.0%  | df_covid |\n",
      "|         codmun         | float64 |        110000.0       |  0.51%  | df_covid |\n",
      "|     codRegiaoSaude     | float64 |        11005.0        |  0.88%  | df_covid |\n",
      "|    nomeRegiaoSaude     |  object |      ZONA DA MATA     |  0.88%  | df_covid |\n",
      "|          data          |  object |       2021-07-01      |   0.0%  | df_covid |\n",
      "|       semanaEpi        |  int64  |           26          |   0.0%  | df_covid |\n",
      "|    populacaoTCU2019    | float64 |      210147125.0      |  0.37%  | df_covid |\n",
      "|     casosAcumulado     | float64 |       18622304.0      |   0.0%  | df_covid |\n",
      "|       casosNovos       |  int64  |         65163         |   0.0%  | df_covid |\n",
      "|    obitosAcumulado     |  int64  |         520095        |   0.0%  | df_covid |\n",
      "|      obitosNovos       |  int64  |          2029         |   0.0%  | df_covid |\n",
      "|    Recuperadosnovos    | float64 |       16858632.0      |  99.98% | df_covid |\n",
      "| emAcompanhamentoNovos  | float64 |       1180443.0       |  99.98% | df_covid |\n",
      "| interior/metropolitana | float64 |          0.0          |  0.88%  | df_covid |\n",
      "+------------------------+---------+-----------------------+---------+----------+\n"
     ]
    }
   ],
   "source": [
    "# extrair nome das colunas\n",
    "nomes_colunas = df.columns.tolist()\n",
    "\n",
    "# extrair tipos de dados\n",
    "tipos_dados = df.dtypes.tolist()\n",
    "\n",
    "# extrair número de valores nulos\n",
    "num_nulos = df.isnull().sum().tolist()\n",
    "\n",
    "# criar lista com exemplos de valores não nulos e origem dos dados\n",
    "exemplos = []\n",
    "for coluna in nomes_colunas:\n",
    "    exemplo = df[coluna].dropna().iloc[0]  # pega o primeiro valor não nulo\n",
    "    exemplos.append(exemplo)\n",
    "\n",
    "# origem dos dados\n",
    "origem = ['df_covid'] * len(nomes_colunas)\n",
    "\n",
    "# criar a tabela PrettyTable\n",
    "table = PrettyTable()\n",
    "\n",
    "# Definir os nomes das colunas\n",
    "table.field_names = [\"Variável\", \"Tipo\", \"Exemplo\", \"% Nulos\", \"Origem\"]\n",
    "\n",
    "# Adicionar as linhas na tabela\n",
    "for i in range(len(nomes_colunas)):\n",
    "    table.add_row([nomes_colunas[i], tipos_dados[i], exemplos[i], \n",
    "                  f\"{round((num_nulos[i] / df.shape[0]) * 100, 2)}%\", origem[i]])\n",
    "\n",
    "# Exibir\n",
    "print(table)"
   ]
  }
 ],
 "metadata": {
  "colab": {
   "provenance": []
  },
  "kernelspec": {
   "display_name": "Python 3 (ipykernel)",
   "language": "python",
   "name": "python3"
  },
  "language_info": {
   "codemirror_mode": {
    "name": "ipython",
    "version": 3
   },
   "file_extension": ".py",
   "mimetype": "text/x-python",
   "name": "python",
   "nbconvert_exporter": "python",
   "pygments_lexer": "ipython3",
   "version": "3.11.7"
  }
 },
 "nbformat": 4,
 "nbformat_minor": 5
}
