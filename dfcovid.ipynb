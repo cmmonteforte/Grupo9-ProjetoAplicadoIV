{
  "cells": [
    {
      "cell_type": "code",
      "source": [
        "import pandas as pd\n",
        "import glob\n",
        "\n",
        "# Lista todos os arquivos CSV na pasta atual\n",
        "caminho_arquivos = glob.glob('*.csv')\n",
        "\n",
        "# Cria uma lista para armazenar os DataFrames\n",
        "lista_dfs = []\n",
        "\n",
        "# Lê cada arquivo CSV e adiciona à lista\n",
        "for arquivo in caminho_arquivos:\n",
        "    df = pd.read_csv(arquivo, delimiter=';')\n",
        "    lista_dfs.append(df)\n",
        "\n",
        "# Concatena todos os DataFrames em um único DataFrame\n",
        "df_final = pd.concat(lista_dfs, ignore_index=True)\n",
        "\n",
        "# Exibe o DataFrame final\n",
        "print(df_final)"
      ],
      "metadata": {
        "colab": {
          "base_uri": "https://localhost:8080/"
        },
        "id": "D8JK30mMbEM5",
        "outputId": "126ca458-c0b5-40d7-d4a4-71c0659579f0"
      },
      "execution_count": 8,
      "outputs": [
        {
          "output_type": "stream",
          "name": "stdout",
          "text": [
            "                regiao estado municipio  coduf    codmun  codRegiaoSaude  \\\n",
            "0               Brasil    NaN       NaN     76       NaN             NaN   \n",
            "1               Brasil    NaN       NaN     76       NaN             NaN   \n",
            "2               Brasil    NaN       NaN     76       NaN             NaN   \n",
            "3               Brasil    NaN       NaN     76       NaN             NaN   \n",
            "4               Brasil    NaN       NaN     76       NaN             NaN   \n",
            "...                ...    ...       ...    ...       ...             ...   \n",
            "10081349  Centro-Oeste     DF  Brasília     53  530010.0         53001.0   \n",
            "10081350  Centro-Oeste     DF  Brasília     53  530010.0         53001.0   \n",
            "10081351  Centro-Oeste     DF  Brasília     53  530010.0         53001.0   \n",
            "10081352  Centro-Oeste     DF  Brasília     53  530010.0         53001.0   \n",
            "10081353  Centro-Oeste     DF  Brasília     53  530010.0         53001.0   \n",
            "\n",
            "           nomeRegiaoSaude        data  semanaEpi  populacaoTCU2019  \\\n",
            "0                      NaN  2021-07-01         26       210147125.0   \n",
            "1                      NaN  2021-07-02         26       210147125.0   \n",
            "2                      NaN  2021-07-03         26       210147125.0   \n",
            "3                      NaN  2021-07-04         27       210147125.0   \n",
            "4                      NaN  2021-07-05         27       210147125.0   \n",
            "...                    ...         ...        ...               ...   \n",
            "10081349  DISTRITO FEDERAL  2024-06-26         26         3015268.0   \n",
            "10081350  DISTRITO FEDERAL  2024-06-27         26         3015268.0   \n",
            "10081351  DISTRITO FEDERAL  2024-06-28         26         3015268.0   \n",
            "10081352  DISTRITO FEDERAL  2024-06-29         26         3015268.0   \n",
            "10081353  DISTRITO FEDERAL  2024-06-30         27         3015268.0   \n",
            "\n",
            "          casosAcumulado  casosNovos  obitosAcumulado  obitosNovos  \\\n",
            "0             18622304.0       65163           520095         2029   \n",
            "1             18687469.0       65165           521952         1857   \n",
            "2             18742025.0       54556           523587         1635   \n",
            "3             18769808.0       27783           524417          830   \n",
            "4             18792511.0       22703           525112          695   \n",
            "...                  ...         ...              ...          ...   \n",
            "10081349        946342.0           0            12009            0   \n",
            "10081350        946342.0           0            12009            0   \n",
            "10081351        946342.0           0            12009            0   \n",
            "10081352        946491.0         149            12009            0   \n",
            "10081353        946491.0           0            12009            0   \n",
            "\n",
            "          Recuperadosnovos  emAcompanhamentoNovos  interior/metropolitana  \n",
            "0               16858632.0              1180443.0                     NaN  \n",
            "1               16931272.0              1170937.0                     NaN  \n",
            "2               16989351.0              1176166.0                     NaN  \n",
            "3               17033808.0              1184630.0                     NaN  \n",
            "4               17082876.0              1162515.0                     NaN  \n",
            "...                    ...                    ...                     ...  \n",
            "10081349               NaN                    NaN                     1.0  \n",
            "10081350               NaN                    NaN                     1.0  \n",
            "10081351               NaN                    NaN                     1.0  \n",
            "10081352               NaN                    NaN                     1.0  \n",
            "10081353               NaN                    NaN                     1.0  \n",
            "\n",
            "[10081354 rows x 17 columns]\n"
          ]
        }
      ]
    },
    {
      "cell_type": "code",
      "source": [
        "# df final check\n",
        "\n",
        "min = df_final['data'].min()\n",
        "max = df_final['data'].max()\n",
        "\n",
        "print(f\"shape: {df_final.shape}\")\n",
        "print(f\"Min: {min}\")\n",
        "print(f\"Max: {max}\")"
      ],
      "metadata": {
        "colab": {
          "base_uri": "https://localhost:8080/"
        },
        "id": "GGzhmZ7di817",
        "outputId": "ec98230f-0033-475b-fb09-a35206ade83d"
      },
      "execution_count": 10,
      "outputs": [
        {
          "output_type": "stream",
          "name": "stdout",
          "text": [
            "shape: (10081354, 17)\n",
            "Min: 2020-02-25\n",
            "Max: 2025-02-22\n"
          ]
        }
      ]
    },
    {
      "cell_type": "code",
      "source": [
        "# save to csv\n",
        "\n",
        "from google.colab import files\n",
        "df_final.to_csv('df_covid.csv', encoding='utf-8', index=False)\n",
        "files.download('df_covid.csv')\n"
      ],
      "metadata": {
        "colab": {
          "base_uri": "https://localhost:8080/",
          "height": 17
        },
        "id": "aUjHtSfUQ6KA",
        "outputId": "43b80eed-46a9-4cf2-fc3a-17176ffd2b0a"
      },
      "execution_count": 11,
      "outputs": [
        {
          "output_type": "display_data",
          "data": {
            "text/plain": [
              "<IPython.core.display.Javascript object>"
            ],
            "application/javascript": [
              "\n",
              "    async function download(id, filename, size) {\n",
              "      if (!google.colab.kernel.accessAllowed) {\n",
              "        return;\n",
              "      }\n",
              "      const div = document.createElement('div');\n",
              "      const label = document.createElement('label');\n",
              "      label.textContent = `Downloading \"${filename}\": `;\n",
              "      div.appendChild(label);\n",
              "      const progress = document.createElement('progress');\n",
              "      progress.max = size;\n",
              "      div.appendChild(progress);\n",
              "      document.body.appendChild(div);\n",
              "\n",
              "      const buffers = [];\n",
              "      let downloaded = 0;\n",
              "\n",
              "      const channel = await google.colab.kernel.comms.open(id);\n",
              "      // Send a message to notify the kernel that we're ready.\n",
              "      channel.send({})\n",
              "\n",
              "      for await (const message of channel.messages) {\n",
              "        // Send a message to notify the kernel that we're ready.\n",
              "        channel.send({})\n",
              "        if (message.buffers) {\n",
              "          for (const buffer of message.buffers) {\n",
              "            buffers.push(buffer);\n",
              "            downloaded += buffer.byteLength;\n",
              "            progress.value = downloaded;\n",
              "          }\n",
              "        }\n",
              "      }\n",
              "      const blob = new Blob(buffers, {type: 'application/binary'});\n",
              "      const a = document.createElement('a');\n",
              "      a.href = window.URL.createObjectURL(blob);\n",
              "      a.download = filename;\n",
              "      div.appendChild(a);\n",
              "      a.click();\n",
              "      div.remove();\n",
              "    }\n",
              "  "
            ]
          },
          "metadata": {}
        },
        {
          "output_type": "display_data",
          "data": {
            "text/plain": [
              "<IPython.core.display.Javascript object>"
            ],
            "application/javascript": [
              "download(\"download_2a661e9a-a0bf-41bb-9403-d70d14afb5b3\", \"db_covid.csv\", 997722283)"
            ]
          },
          "metadata": {}
        }
      ]
    }
  ],
  "metadata": {
    "colab": {
      "provenance": []
    },
    "kernelspec": {
      "display_name": "Python 3",
      "name": "python3"
    },
    "language_info": {
      "name": "python"
    }
  },
  "nbformat": 4,
  "nbformat_minor": 0
}